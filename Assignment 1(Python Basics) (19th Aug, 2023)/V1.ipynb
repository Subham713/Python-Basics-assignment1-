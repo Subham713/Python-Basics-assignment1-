{
 "cells": [
  {
   "cell_type": "code",
   "execution_count": null,
   "id": "15f07a47-0c29-4490-a4fa-003e28cf7f93",
   "metadata": {},
   "outputs": [],
   "source": [
    "#1_Declare two variables, `x` and `y`, and assign them integer values. Swap the values of these variables without using any temporary variable."
   ]
  },
  {
   "cell_type": "code",
   "execution_count": 19,
   "id": "d320789a-7c81-47e8-bca9-a4219ae8edfa",
   "metadata": {},
   "outputs": [],
   "source": [
    "#assigning integers to variavle x and y\n",
    "x=1;\n",
    "y=2;"
   ]
  },
  {
   "cell_type": "code",
   "execution_count": 24,
   "id": "9d384cab-5d2d-4ecc-be44-aa9fdf18ec91",
   "metadata": {},
   "outputs": [],
   "source": [
    "# logic of swaping using without temporary variable\n",
    "\n",
    "x=x+y\n",
    "y=x-y\n",
    "x=x-y"
   ]
  },
  {
   "cell_type": "code",
   "execution_count": 25,
   "id": "6bd42625-1314-484c-a5d8-13689d4c06d6",
   "metadata": {},
   "outputs": [
    {
     "data": {
      "text/plain": [
       "1"
      ]
     },
     "execution_count": 25,
     "metadata": {},
     "output_type": "execute_result"
    }
   ],
   "source": [
    "#swaped output x\n",
    "x"
   ]
  },
  {
   "cell_type": "code",
   "execution_count": 26,
   "id": "26932e59-6583-4092-a166-6c8a329f73e5",
   "metadata": {},
   "outputs": [
    {
     "data": {
      "text/plain": [
       "2"
      ]
     },
     "execution_count": 26,
     "metadata": {},
     "output_type": "execute_result"
    }
   ],
   "source": [
    "#swaped output y\n",
    "y"
   ]
  },
  {
   "cell_type": "code",
   "execution_count": null,
   "id": "4b0a5316-9d8f-4b02-baea-a86b38203699",
   "metadata": {},
   "outputs": [],
   "source": []
  }
 ],
 "metadata": {
  "kernelspec": {
   "display_name": "Python 3 (ipykernel)",
   "language": "python",
   "name": "python3"
  },
  "language_info": {
   "codemirror_mode": {
    "name": "ipython",
    "version": 3
   },
   "file_extension": ".py",
   "mimetype": "text/x-python",
   "name": "python",
   "nbconvert_exporter": "python",
   "pygments_lexer": "ipython3",
   "version": "3.10.8"
  }
 },
 "nbformat": 4,
 "nbformat_minor": 5
}
