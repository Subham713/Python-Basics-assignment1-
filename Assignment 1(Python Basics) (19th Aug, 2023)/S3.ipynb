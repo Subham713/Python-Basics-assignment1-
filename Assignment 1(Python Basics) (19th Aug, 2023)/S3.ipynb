{
 "cells": [
  {
   "cell_type": "code",
   "execution_count": null,
   "id": "b358bf7f-aecf-4cd2-84b7-effbedbfb478",
   "metadata": {},
   "outputs": [],
   "source": [
    "#Given a string, reverse the order of characters using string slicing and print the reversed string."
   ]
  },
  {
   "cell_type": "code",
   "execution_count": 24,
   "id": "27f00ee2-bf69-4368-816f-5a266904fe7b",
   "metadata": {},
   "outputs": [
    {
     "name": "stdin",
     "output_type": "stream",
     "text": [
      "input string: ahsdihsk\n"
     ]
    },
    {
     "name": "stdout",
     "output_type": "stream",
     "text": [
      "reverse order of the string is : kshidsha\n"
     ]
    }
   ],
   "source": [
    "x= input('input string:')# input string\n",
    "#reverse slicing\n",
    "y=x[::-1]\n",
    "print('reverse order of the string is :', y)"
   ]
  }
 ],
 "metadata": {
  "kernelspec": {
   "display_name": "Python 3 (ipykernel)",
   "language": "python",
   "name": "python3"
  },
  "language_info": {
   "codemirror_mode": {
    "name": "ipython",
    "version": 3
   },
   "file_extension": ".py",
   "mimetype": "text/x-python",
   "name": "python",
   "nbconvert_exporter": "python",
   "pygments_lexer": "ipython3",
   "version": "3.10.8"
  }
 },
 "nbformat": 4,
 "nbformat_minor": 5
}
