{
 "cells": [
  {
   "cell_type": "code",
   "execution_count": null,
   "id": "ad07c1b6-5b11-414a-b349-467ed6dfef7b",
   "metadata": {},
   "outputs": [],
   "source": [
    "#5 Create a program that takes a string as input and removes all the spaces from it. Print the modified string without spaces."
   ]
  },
  {
   "cell_type": "code",
   "execution_count": 9,
   "id": "c00628e4-d4dc-4a1f-b306-dc0d22e07358",
   "metadata": {},
   "outputs": [
    {
     "name": "stdin",
     "output_type": "stream",
     "text": [
      "input sentence iuas aishdo hasoidh\n"
     ]
    },
    {
     "name": "stdout",
     "output_type": "stream",
     "text": [
      "the modified sentence without space: iuasaishdohasoidh\n"
     ]
    }
   ],
   "source": [
    "x= input('input sentence:') # input the sentence\n",
    "y=x.replace(\" \",\"\") # logically replacing the spaces with nothing\n",
    "print('the modified sentence without space:',y)"
   ]
  }
 ],
 "metadata": {
  "kernelspec": {
   "display_name": "Python 3 (ipykernel)",
   "language": "python",
   "name": "python3"
  },
  "language_info": {
   "codemirror_mode": {
    "name": "ipython",
    "version": 3
   },
   "file_extension": ".py",
   "mimetype": "text/x-python",
   "name": "python",
   "nbconvert_exporter": "python",
   "pygments_lexer": "ipython3",
   "version": "3.10.8"
  }
 },
 "nbformat": 4,
 "nbformat_minor": 5
}
