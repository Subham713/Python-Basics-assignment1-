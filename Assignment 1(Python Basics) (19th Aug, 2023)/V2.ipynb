{
 "cells": [
  {
   "cell_type": "code",
   "execution_count": null,
   "id": "886e174e-17b8-429a-abc8-7c2f9f6c0574",
   "metadata": {},
   "outputs": [],
   "source": [
    "#2_Create a program that calculates the area of a rectangle. Take the length and width as inputs from the user and store them in variables. Calculate and display the area."
   ]
  },
  {
   "cell_type": "code",
   "execution_count": 17,
   "id": "ab5e03d6-5bf8-4812-b1c1-2f192beffff5",
   "metadata": {},
   "outputs": [
    {
     "name": "stdin",
     "output_type": "stream",
     "text": [
      "insert length 10\n",
      "insert width 4\n"
     ]
    },
    {
     "name": "stdout",
     "output_type": "stream",
     "text": [
      "Area is 40\n"
     ]
    }
   ],
   "source": [
    "Length=input(\"insert length\") #input Length of the rectangle\n",
    "Width=input(\"insert width\") #input Width of the rectangle\n",
    "\n",
    "L=int(Length) # typecasting str to int\n",
    "W=int(Width)\n",
    "\n",
    "Area =L*W # finding area of rectangle \n",
    "print('Area is', Area)"
   ]
  },
  {
   "cell_type": "code",
   "execution_count": 12,
   "id": "cce0dcfa-d3c9-4d50-889e-1e288c00686d",
   "metadata": {},
   "outputs": [],
   "source": []
  },
  {
   "cell_type": "code",
   "execution_count": 14,
   "id": "e67bd0b6-be1b-4355-8b63-179d38f9aec4",
   "metadata": {},
   "outputs": [
    {
     "data": {
      "text/plain": [
       "24"
      ]
     },
     "execution_count": 14,
     "metadata": {},
     "output_type": "execute_result"
    }
   ],
   "source": []
  },
  {
   "cell_type": "code",
   "execution_count": null,
   "id": "334df15f-db87-481a-82b8-3bf9e9d1b09e",
   "metadata": {},
   "outputs": [],
   "source": []
  }
 ],
 "metadata": {
  "kernelspec": {
   "display_name": "Python 3 (ipykernel)",
   "language": "python",
   "name": "python3"
  },
  "language_info": {
   "codemirror_mode": {
    "name": "ipython",
    "version": 3
   },
   "file_extension": ".py",
   "mimetype": "text/x-python",
   "name": "python",
   "nbconvert_exporter": "python",
   "pygments_lexer": "ipython3",
   "version": "3.10.8"
  }
 },
 "nbformat": 4,
 "nbformat_minor": 5
}
