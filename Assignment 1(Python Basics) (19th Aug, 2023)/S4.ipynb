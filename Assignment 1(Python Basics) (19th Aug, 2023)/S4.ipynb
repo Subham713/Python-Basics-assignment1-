{
 "cells": [
  {
   "cell_type": "code",
   "execution_count": null,
   "id": "7b741660-340e-42a5-a6ba-c386c6d62606",
   "metadata": {},
   "outputs": [],
   "source": [
    "#4 Write a program that takes a string as input and checks if it is a palindrome (reads the same forwards and backwards)."
   ]
  },
  {
   "cell_type": "code",
   "execution_count": 9,
   "id": "6e8f8582-8f9c-447e-a104-de569a18274c",
   "metadata": {},
   "outputs": [
    {
     "name": "stdin",
     "output_type": "stream",
     "text": [
      "input word: Rajar\n"
     ]
    },
    {
     "name": "stdout",
     "output_type": "stream",
     "text": [
      "No its not palindrome\n"
     ]
    }
   ],
   "source": [
    "x=input('input word:')\n",
    "y=x\n",
    "if x==y[::-1]:\n",
    "    print ('Yes its palindrome')\n",
    "else:\n",
    "    print('No its not palindrome')"
   ]
  }
 ],
 "metadata": {
  "kernelspec": {
   "display_name": "Python 3 (ipykernel)",
   "language": "python",
   "name": "python3"
  },
  "language_info": {
   "codemirror_mode": {
    "name": "ipython",
    "version": 3
   },
   "file_extension": ".py",
   "mimetype": "text/x-python",
   "name": "python",
   "nbconvert_exporter": "python",
   "pygments_lexer": "ipython3",
   "version": "3.10.8"
  }
 },
 "nbformat": 4,
 "nbformat_minor": 5
}
