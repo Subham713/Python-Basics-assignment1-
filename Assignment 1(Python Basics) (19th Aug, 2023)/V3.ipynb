{
 "cells": [
  {
   "cell_type": "code",
   "execution_count": 1,
   "id": "f7fe8438-095c-47f9-9102-f413ee8de179",
   "metadata": {},
   "outputs": [],
   "source": [
    "#3_Write a Python program that converts temperatures from Celsius to Fahrenheit. Take the temperature in Celsius as input, store it in a variable, convert it to Fahrenheit, and display the result."
   ]
  },
  {
   "cell_type": "code",
   "execution_count": 15,
   "id": "ea342def-9cf3-4e9c-96fe-83ad2461881f",
   "metadata": {},
   "outputs": [
    {
     "name": "stdin",
     "output_type": "stream",
     "text": [
      "insert temp in deg Celcius 54\n"
     ]
    },
    {
     "name": "stdout",
     "output_type": "stream",
     "text": [
      "temperature in 129.2 deg F\n"
     ]
    }
   ],
   "source": [
    "c=input('insert temp in deg Celcius') #input value in degree celcius scale\n",
    "c=int(c) #typecasting from str to int\n",
    "f=(9/5)*c+32 #conversion formula from deg Celcius to deg Farenheit\n",
    "f\n",
    "print('temperature in',f, 'deg F')"
   ]
  },
  {
   "cell_type": "code",
   "execution_count": null,
   "id": "e0af4797-32bd-4202-a059-8454293f469c",
   "metadata": {},
   "outputs": [],
   "source": []
  }
 ],
 "metadata": {
  "kernelspec": {
   "display_name": "Python 3 (ipykernel)",
   "language": "python",
   "name": "python3"
  },
  "language_info": {
   "codemirror_mode": {
    "name": "ipython",
    "version": 3
   },
   "file_extension": ".py",
   "mimetype": "text/x-python",
   "name": "python",
   "nbconvert_exporter": "python",
   "pygments_lexer": "ipython3",
   "version": "3.10.8"
  }
 },
 "nbformat": 4,
 "nbformat_minor": 5
}
