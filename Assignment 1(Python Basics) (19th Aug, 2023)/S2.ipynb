{
 "cells": [
  {
   "cell_type": "code",
   "execution_count": null,
   "id": "b6ba2178-101b-40f9-8dea-e1d6fd4d6801",
   "metadata": {},
   "outputs": [],
   "source": [
    "#2 Create a program that takes a sentence from the user and counts the number of vowels (a, e, i, o, u) in the string."
   ]
  },
  {
   "cell_type": "code",
   "execution_count": 15,
   "id": "4af4e53b-d1a4-4cb0-8402-d3ce970cf03b",
   "metadata": {},
   "outputs": [
    {
     "name": "stdin",
     "output_type": "stream",
     "text": [
      "input sentence: i was l;onely man\n"
     ]
    },
    {
     "name": "stdout",
     "output_type": "stream",
     "text": [
      "no.s of vowels in the sentence: 5\n"
     ]
    }
   ],
   "source": [
    "x=input('input sentence:') #input sentence with upper case and lower case vowels\n",
    "#add all the vowels having upper case and lower case.\n",
    "count=x.count('a')+x.count('e')+x.count('i')+x.count('o')+x.count('u')+x.count('A')+x.count('E')+x.count('I')+x.count('O')+x.count('U')\n",
    "print('no.s of vowels in the sentence:', count)"
   ]
  },
  {
   "cell_type": "code",
   "execution_count": null,
   "id": "76eb17de-6c3d-422a-bff4-182e454e2a30",
   "metadata": {},
   "outputs": [],
   "source": []
  }
 ],
 "metadata": {
  "kernelspec": {
   "display_name": "Python 3 (ipykernel)",
   "language": "python",
   "name": "python3"
  },
  "language_info": {
   "codemirror_mode": {
    "name": "ipython",
    "version": 3
   },
   "file_extension": ".py",
   "mimetype": "text/x-python",
   "name": "python",
   "nbconvert_exporter": "python",
   "pygments_lexer": "ipython3",
   "version": "3.10.8"
  }
 },
 "nbformat": 4,
 "nbformat_minor": 5
}
