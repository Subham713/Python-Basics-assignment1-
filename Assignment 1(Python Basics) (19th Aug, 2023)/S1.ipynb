{
 "cells": [
  {
   "cell_type": "code",
   "execution_count": null,
   "id": "7584a9c6-1a25-4488-a6b7-3e2958f025ef",
   "metadata": {},
   "outputs": [],
   "source": [
    "#Write a Python program that takes a string as input and prints the length of the string."
   ]
  },
  {
   "cell_type": "code",
   "execution_count": 23,
   "id": "c5211cad-90a6-4c29-a245-de17c11247df",
   "metadata": {},
   "outputs": [
    {
     "name": "stdin",
     "output_type": "stream",
     "text": [
      "input string swdgfsfsdf\n"
     ]
    },
    {
     "name": "stdout",
     "output_type": "stream",
     "text": [
      "the length of the string is 10\n"
     ]
    }
   ],
   "source": [
    "x=input('input string') #input string\n",
    "counter=0 \n",
    "#resetting a counter to count the length in each iteration of for loop\n",
    "for i in x:\n",
    "        counter = counter + 1\n",
    "        \n",
    "print('the length of the string is', counter) "
   ]
  }
 ],
 "metadata": {
  "kernelspec": {
   "display_name": "Python 3 (ipykernel)",
   "language": "python",
   "name": "python3"
  },
  "language_info": {
   "codemirror_mode": {
    "name": "ipython",
    "version": 3
   },
   "file_extension": ".py",
   "mimetype": "text/x-python",
   "name": "python",
   "nbconvert_exporter": "python",
   "pygments_lexer": "ipython3",
   "version": "3.10.8"
  }
 },
 "nbformat": 4,
 "nbformat_minor": 5
}
